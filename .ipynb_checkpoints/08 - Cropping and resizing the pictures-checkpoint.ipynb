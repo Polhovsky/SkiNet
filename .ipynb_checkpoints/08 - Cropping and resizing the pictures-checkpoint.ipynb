{
 "cells": [
  {
   "cell_type": "code",
   "execution_count": null,
   "metadata": {},
   "outputs": [],
   "source": [
    "import pandas as pd\n",
    "import numpy as np\n",
    "\n",
    "import os.path\n",
    "from PIL import Image, ImageChops\n",
    "from scipy.misc import imresize\n",
    "\n",
    "account_data_01 = pd.read_csv('results/picture_specific_dataset.csv', parse_dates = [2, 7, 24, 28, 32, 36, 40, 44], dayfirst = True, low_memory = False)\n",
    "accountnames = pd.read_csv('results/stats_table.csv', sep = ',', encoding = \"ISO-8859-1\")\n",
    "accountnames.drop(['state',\n",
    "                   'longitude',\n",
    "                   'latitude',\n",
    "                   'followers',\n",
    "                   'number_useful_pictures',\n",
    "                   'number_images_trash',\n",
    "                   'number_images_total',\n",
    "                   'zip_code'], axis = 1, inplace = True)\n",
    "\n",
    "account_data_02 = account_data_01.merge(accountnames, on = 'resort', how = 'inner')\n",
    "\n",
    "print('Number of records in account_data_01:', account_data_01.shape[0])\n",
    "print('Number of records in account_data_02:', account_data_02.shape[0])"
   ]
  },
  {
   "cell_type": "code",
   "execution_count": null,
   "metadata": {},
   "outputs": [],
   "source": [
    "account_data_02.head()"
   ]
  },
  {
   "cell_type": "code",
   "execution_count": null,
   "metadata": {},
   "outputs": [],
   "source": [
    "# function to crop a picture in order to get rid of borders around the picture\n",
    "\n",
    "def trim(im):\n",
    "    bg = Image.new(im.mode, im.size, im.getpixel((0,0)))\n",
    "    diff = ImageChops.difference(im, bg)\n",
    "    diff = ImageChops.add(diff, diff, 2.0, -10)\n",
    "    bbox = diff.getbbox()\n",
    "    \n",
    "    if bbox:\n",
    "        return im.crop(bbox)\n",
    "\n",
    "# let's create a list with only image_id and accountname for each picture\n",
    "image_list = account_data_02[['image_id', 'accountname']].values.tolist()\n",
    "\n",
    "# import, crop, resize and save the picture\n",
    "for j in range(0, len(image_list)):\n",
    "    \n",
    "    # define the location of the pictures of a particular resort\n",
    "    folder_path = 'images/{}/'.format(str(image_list[j][1]))\n",
    "\n",
    "    # import the picture if it exists\n",
    "    if os.path.isfile(folder_path + str(image_list[j][0]) + str('.jpg')):\n",
    "        img = Image.open(folder_path + str(image_list[j][0]) + str('.jpg'))\n",
    "        \n",
    "        # crop the picture (get rid of the borders)\n",
    "        img_cropped = trim(img)\n",
    "        \n",
    "        # convert picture to an array\n",
    "        arr = np.array(img_cropped)\n",
    "        \n",
    "        # resize the picture\n",
    "        img_resized_64  = imresize(arr, ( 64,  64))\n",
    "        img_resized_100 = imresize(arr, (100, 100))\n",
    "        img_resized_144 = imresize(arr, (144, 144))\n",
    "        img_resized_196 = imresize(arr, (196, 196))\n",
    "        img_resized_256 = imresize(arr, (256, 256))\n",
    "        \n",
    "        # create a directory\n",
    "        if not os.path.exists(folder_path + '/crop/'):\n",
    "            os.makedirs(folder_path + '/crop/')\n",
    "        \n",
    "        # save the cropped and resized versions of the picture\n",
    "        scipy.misc.imsave(folder_path + '/crop/'+ str(image_list[j][0]) + str('_64.jpg'), img_resized_64)\n",
    "        scipy.misc.imsave(folder_path + '/crop/'+ str(image_list[j][0]) + str('_100.jpg'), img_resized_100)\n",
    "        scipy.misc.imsave(folder_path + '/crop/'+ str(image_list[j][0]) + str('_144.jpg'), img_resized_144)\n",
    "        scipy.misc.imsave(folder_path + '/crop/'+ str(image_list[j][0]) + str('_196.jpg'), img_resized_196)\n",
    "        scipy.misc.imsave(folder_path + '/crop/'+ str(image_list[j][0]) + str('_256.jpg'), img_resized_256)\n",
    "        \n",
    "        if (j > 0) and (j%1000) == 0:\n",
    "            print(j, 'images have been processed')"
   ]
  }
 ],
 "metadata": {
  "kernelspec": {
   "display_name": "Python 3",
   "language": "python",
   "name": "python3"
  },
  "language_info": {
   "codemirror_mode": {
    "name": "ipython",
    "version": 3
   },
   "file_extension": ".py",
   "mimetype": "text/x-python",
   "name": "python",
   "nbconvert_exporter": "python",
   "pygments_lexer": "ipython3",
   "version": "3.6.1"
  }
 },
 "nbformat": 4,
 "nbformat_minor": 2
}
