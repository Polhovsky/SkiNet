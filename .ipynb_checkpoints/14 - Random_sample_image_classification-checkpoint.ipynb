{
 "cells": [
  {
   "cell_type": "code",
   "execution_count": null,
   "metadata": {},
   "outputs": [],
   "source": [
    "import pandas as pd\n",
    "import numpy as np\n",
    "import random\n",
    "import os\n",
    "from shutil import copy\n",
    "\n",
    "account_data_01 = pd.read_csv('results/dataset_analysis.csv', low_memory = False)\n",
    "clusters = pd.read_csv('results/clusters.csv', low_memory = False)\n",
    "account_data_02 = account_data_01.merge(clusters, on = 'image_id', how = 'inner')\n",
    "\n",
    "image_ids_train = pd.read_csv('results/image_ids_train.csv', low_memory = False)\n",
    "image_ids_val = pd.read_csv('results/image_ids_val.csv', low_memory = False)\n",
    "image_ids_test = pd.read_csv('results/image_ids_test.csv', low_memory = False)\n",
    "\n",
    "training_df = account_data_02.merge(image_ids_train, on = 'image_id', how = 'inner')\n",
    "training_df = training_df[['likes_groups', 'cluster', 'accountname', 'image_id']]\n",
    "\n",
    "validation_df = account_data_02.merge(image_ids_val, on = 'image_id', how = 'inner')\n",
    "validation_df = validation_df[['likes_groups', 'cluster', 'accountname', 'image_id']]\n",
    "\n",
    "test_df = account_data_02.merge(image_ids_test, on = 'image_id', how = 'inner')\n",
    "test_df = test_df[['likes_groups', 'cluster', 'accountname', 'image_id']]\n",
    "\n",
    "print('Number of samples in training_df:', training_df.shape[0])\n",
    "print('Number of samples in validation_df:', validation_df.shape[0])\n",
    "print('Number of samples in test_df:', test_df.shape[0])"
   ]
  },
  {
   "cell_type": "code",
   "execution_count": null,
   "metadata": {
    "collapsed": true
   },
   "outputs": [],
   "source": [
    "random.seed(42)\n",
    "sample_ids = random.sample(account_data_02[['likes_groups', 'cluster', 'accountname', 'image_id']].values.tolist(), 5000)"
   ]
  },
  {
   "cell_type": "code",
   "execution_count": null,
   "metadata": {
    "collapsed": true
   },
   "outputs": [],
   "source": [
    "picture_size = 256\n",
    "\n",
    "for j in range(0, len(sample_ids)):\n",
    "\n",
    "    file = 'images/' + str(sample_ids[j][2]) + '/crop/' + str(sample_ids[j][3]) + '_' + str(picture_size) + '.jpg'\n",
    "    destination = 'image_classifier/'\n",
    "    \n",
    "    if not os.path.exists(destination):\n",
    "        os.makedirs(destination)\n",
    "    \n",
    "    # copy the picture if it exists\n",
    "    if os.path.isfile(file):\n",
    "        copy(file, destination)"
   ]
  }
 ],
 "metadata": {
  "kernelspec": {
   "display_name": "Python 3",
   "language": "python",
   "name": "python3"
  },
  "language_info": {
   "codemirror_mode": {
    "name": "ipython",
    "version": 3
   },
   "file_extension": ".py",
   "mimetype": "text/x-python",
   "name": "python",
   "nbconvert_exporter": "python",
   "pygments_lexer": "ipython3",
   "version": "3.6.1"
  }
 },
 "nbformat": 4,
 "nbformat_minor": 2
}
