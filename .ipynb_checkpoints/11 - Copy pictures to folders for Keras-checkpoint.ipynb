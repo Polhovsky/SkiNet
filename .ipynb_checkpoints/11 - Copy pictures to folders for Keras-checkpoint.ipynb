{
 "cells": [
  {
   "cell_type": "code",
   "execution_count": null,
   "metadata": {},
   "outputs": [],
   "source": [
    "import pandas as pd\n",
    "import numpy as np\n",
    "import os\n",
    "from shutil import copy\n",
    "\n",
    "account_data_01 = pd.read_csv('results/dataset_analysis.csv', low_memory = False)\n",
    "clusters = pd.read_csv('results/clusters.csv', low_memory = False)\n",
    "account_data_02 = account_data_01.merge(clusters, on = 'image_id', how = 'inner')\n",
    "\n",
    "image_ids_train = pd.read_csv('results/image_ids_train.csv', low_memory = False)\n",
    "image_ids_val = pd.read_csv('results/image_ids_val.csv', low_memory = False)\n",
    "image_ids_test = pd.read_csv('results/image_ids_test.csv', low_memory = False)\n",
    "\n",
    "account_data_03 = account_data_02.merge(image_ids_train, on = 'image_id', how = 'left', indicator = True)\n",
    "account_data_03['training'] = np.where(account_data_03['_merge'] == 'both', 1, 0)\n",
    "account_data_03.drop('_merge', axis = 1, inplace = True)\n",
    "\n",
    "account_data_04 = account_data_03.merge(image_ids_val, on = 'image_id', how = 'left', indicator = True)\n",
    "account_data_04['validation'] = np.where(account_data_04['_merge'] == 'both', 1, 0)\n",
    "account_data_04.drop('_merge', axis = 1, inplace = True)\n",
    "\n",
    "account_data_05 = account_data_04.merge(image_ids_test, on = 'image_id', how = 'left', indicator = True)\n",
    "account_data_05['test'] = np.where(account_data_05['_merge'] == 'both', 1, 0)\n",
    "account_data_05.drop('_merge', axis = 1, inplace = True)\n",
    "\n",
    "print('Number of samples in account_data_01:', account_data_01.shape[0])\n",
    "print('Number of samples in account_data_05:', account_data_05.shape[0])"
   ]
  },
  {
   "cell_type": "code",
   "execution_count": null,
   "metadata": {},
   "outputs": [],
   "source": [
    "account_data_05['training'].value_counts(), \\\n",
    "account_data_05['validation'].value_counts(), \\\n",
    "account_data_05['test'].value_counts()"
   ]
  },
  {
   "cell_type": "code",
   "execution_count": null,
   "metadata": {},
   "outputs": [],
   "source": [
    "account_data_05['likes_groups'].value_counts()"
   ]
  },
  {
   "cell_type": "code",
   "execution_count": null,
   "metadata": {
    "collapsed": true
   },
   "outputs": [],
   "source": [
    "image_list = account_data_05.values.tolist()\n",
    "\n",
    "picture_size = 256\n",
    "\n",
    "for j in range(0, len(image_list)):\n",
    "\n",
    "    file = 'images/' + str(image_list[j][4]) + '/crop/' + str(image_list[j][5]) + '_' + str(picture_size) + '.jpg'\n",
    "    \n",
    "    if image_list[j][174] == 1:\n",
    "        destination = 'training_data/' + str(image_list[j][0][0])\n",
    "    elif image_list[j][175] == 1:\n",
    "        destination = 'validation_data/' + str(image_list[j][0][0])\n",
    "    elif image_list[j][176] == 1:\n",
    "        destination = 'test_data/' + str(image_list[j][0][0])\n",
    "    else:\n",
    "        destination = 'error'\n",
    "        \n",
    "    # copy the picture if it exists\n",
    "    if os.path.isfile(file):\n",
    "        copy(file, destination)"
   ]
  }
 ],
 "metadata": {
  "kernelspec": {
   "display_name": "Python 3",
   "language": "python",
   "name": "python3"
  },
  "language_info": {
   "codemirror_mode": {
    "name": "ipython",
    "version": 3
   },
   "file_extension": ".py",
   "mimetype": "text/x-python",
   "name": "python",
   "nbconvert_exporter": "python",
   "pygments_lexer": "ipython3",
   "version": "3.6.1"
  }
 },
 "nbformat": 4,
 "nbformat_minor": 2
}
